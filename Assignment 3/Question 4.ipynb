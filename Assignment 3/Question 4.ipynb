{
 "cells": [
  {
   "cell_type": "markdown",
   "id": "1bfa2651",
   "metadata": {},
   "source": [
    "# QUESTION 4"
   ]
  },
  {
   "cell_type": "raw",
   "id": "51a7403c",
   "metadata": {},
   "source": [
    "# H0 = defective % does varies\n",
    "# H1 = defective % does not varies\n",
    "# Aplha = 0.05"
   ]
  },
  {
   "cell_type": "code",
   "execution_count": 21,
   "id": "ec2862a6",
   "metadata": {},
   "outputs": [],
   "source": [
    "import numpy as np\n",
    "import pandas as pd\n",
    "import scipy.stats as stats\n",
    "from scipy.stats import f_oneway\n",
    "from sklearn.preprocessing import LabelEncoder\n",
    "data = pd.read_csv(\"D:\\Data Science\\Assignment\\Assignment 3\\Costomer+OrderForm.csv\")"
   ]
  },
  {
   "cell_type": "code",
   "execution_count": 22,
   "id": "664f05c9",
   "metadata": {},
   "outputs": [],
   "source": [
    "le=LabelEncoder()\n",
    "data['Phillippines']=le.fit_transform(data['Phillippines'])\n",
    "data['Indonesia']=le.fit_transform(data['Indonesia'])\n",
    "data['Malta']=le.fit_transform(data['Malta'])\n",
    "data['India']=le.fit_transform(data['India'])"
   ]
  },
  {
   "cell_type": "code",
   "execution_count": 24,
   "id": "11bb5038",
   "metadata": {},
   "outputs": [
    {
     "data": {
      "text/plain": [
       "F_onewayResult(statistic=1.2861685560891671, pvalue=0.2776780955705948)"
      ]
     },
     "execution_count": 24,
     "metadata": {},
     "output_type": "execute_result"
    }
   ],
   "source": [
    "stats.f_oneway(data['Phillippines'],data['India'],data['Indonesia'],data['Malta'])"
   ]
  },
  {
   "cell_type": "raw",
   "id": "864b104b",
   "metadata": {},
   "source": [
    "# Conclusion : \n",
    "P-value is less, we reject the null hypothesis."
   ]
  }
 ],
 "metadata": {
  "kernelspec": {
   "display_name": "Python 3 (ipykernel)",
   "language": "python",
   "name": "python3"
  },
  "language_info": {
   "codemirror_mode": {
    "name": "ipython",
    "version": 3
   },
   "file_extension": ".py",
   "mimetype": "text/x-python",
   "name": "python",
   "nbconvert_exporter": "python",
   "pygments_lexer": "ipython3",
   "version": "3.11.5"
  }
 },
 "nbformat": 4,
 "nbformat_minor": 5
}
